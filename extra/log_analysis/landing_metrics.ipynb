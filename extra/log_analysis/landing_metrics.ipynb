{
 "cells": [
  {
   "cell_type": "code",
   "execution_count": 1,
   "id": "bb180388",
   "metadata": {},
   "outputs": [],
   "source": [
    "import bagpy\n",
    "from bagpy import bagreader\n",
    "import numpy as np\n",
    "#%matplotlib # for interactive plots\n",
    "from matplotlib import pyplot as plt"
   ]
  },
  {
   "cell_type": "code",
   "execution_count": 2,
   "id": "5cc63a9f",
   "metadata": {},
   "outputs": [],
   "source": [
    "# This program computes landing metrics to see how accurate the landing was,\n",
    "#   and how well the landing pad stayed in the FOV\n",
    "# Record a rosbag during a flight with \n",
    "#   rosbag record /re_tag_detections /ground_truth/state\n",
    "\n",
    "# For FOV constraint metric:\n",
    "# /re_tag_detections (geometry_msgs/PoseWithCovarianceStamped) contains messages:\n",
    "#   header\n",
    "#   pose"
   ]
  },
  {
   "cell_type": "code",
   "execution_count": null,
   "id": "654b416d",
   "metadata": {},
   "outputs": [],
   "source": [
    "# Camera Info\n",
    "\n",
    "# Simulation\n",
    "fx = 317.0682951064176 # vert focal length in pixels\n",
    "fy = 317.0682951064176 # horiz focal length in pixels\n",
    "cx = 320.5 # x principal point in pixels\n",
    "cy = 240.5 # y principal point in pixels\n",
    "\n",
    "# Hardware\n",
    "# fx =  # vert focal length in pixels\n",
    "# fy =  # horiz focal length in pixels\n",
    "# cx =  # x principal point in pixels\n",
    "# cy =  # y principal point in pixels"
   ]
  },
  {
   "cell_type": "code",
   "execution_count": 6,
   "id": "bbbbed0b",
   "metadata": {
    "scrolled": true
   },
   "outputs": [
    {
     "name": "stdout",
     "output_type": "stream",
     "text": [
      "[INFO]  Successfully created the data folder /home/sequoyah/Documents/Research/ARC_lab/VIO/rosbags/FOV_2023-08-09-23-09-38.\n",
      "[INFO]  Successfully created the data folder /home/sequoyah/Documents/Research/ARC_lab/VIO/rosbags/noFOV_2023-08-09-23-06-30.\n",
      "\n",
      "Message types:  ['nav_msgs/Odometry', 'geometry_msgs/PoseStamped']\n",
      "Message frequencies:  [62.50000000058975, 14.705882352944716]\n"
     ]
    }
   ],
   "source": [
    "# Load rosbag\n",
    "\n",
    "#path = '/home/sequoyah/ROS/rosbags/'\n",
    "path = '/home/sequoyah/Documents/Research/ARC_lab/VIO/rosbags/'\n",
    "#path = '/filespace/w/walters/ROS/VIO_quad/rosbags/'\n",
    "\n",
    "#bag_file = 'sim_thrust_map.bag'\n",
    "#bag_file = '2023-07-21-03-51-16.bag'\n",
    "bag_file_fov = 'FOV_2023-08-09-23-09-38.bag'\n",
    "bag_file_no_fov = 'noFOV_2023-08-09-23-06-30.bag'\n",
    "\n",
    "bag_fov = bagreader(path + bag_file_fov)\n",
    "bag_no_fov = bagreader(path + bag_file_no_fov)\n",
    "print(\"\\nMessage types: \", bag_fov.message_types)\n",
    "print(\"Message frequencies: \", bag_fov.frequency)"
   ]
  },
  {
   "cell_type": "code",
   "execution_count": 9,
   "id": "57bbe4da",
   "metadata": {},
   "outputs": [
    {
     "name": "stdout",
     "output_type": "stream",
     "text": [
      "/home/sequoyah/Documents/Research/ARC_lab/VIO/rosbags/FOV_2023-08-09-23-09-38/re_tag_detections.csv \n",
      " /home/sequoyah/Documents/Research/ARC_lab/VIO/rosbags/noFOV_2023-08-09-23-06-30/re_tag_detections.csv\n"
     ]
    }
   ],
   "source": [
    "# Convert to csv files\n",
    "\n",
    "tag_detect_fov_csv = bag_fov.message_by_topic('/re_tag_detections')\n",
    "tag_detect_no_fov_csv = bag_no_fov.message_by_topic('/re_tag_detections')\n",
    "print(tag_detect_fov_csv,'\\n', tag_detect_no_fov_csv)"
   ]
  },
  {
   "cell_type": "code",
   "execution_count": 10,
   "id": "2d104842",
   "metadata": {},
   "outputs": [
    {
     "name": "stdout",
     "output_type": "stream",
     "text": [
      "('Time', 'headerseq', 'headerstampsecs', 'headerstampnsecs', 'headerframe_id', 'posepositionx', 'posepositiony', 'posepositionz', 'poseorientationx', 'poseorientationy', 'poseorientationz', 'poseorientationw')\n"
     ]
    }
   ],
   "source": [
    "# Convert to numpy arrays\n",
    "\n",
    "tag_fov_data = np.genfromtxt(tag_detect_fov_csv, delimiter=',', dtype=float, names=True)\n",
    "tag_no_fov_data = np.genfromtxt(tag_detect_no_fov_csv, delimiter=',', dtype=float, names=True)\n",
    "\n",
    "# Show field names\n",
    "print(tag_fov_data.dtype.names)"
   ]
  },
  {
   "cell_type": "code",
   "execution_count": 11,
   "id": "d242910e",
   "metadata": {
    "scrolled": false
   },
   "outputs": [],
   "source": [
    "# Extract data\n",
    "\n",
    "# Times\n",
    "times_fov = tag_fov_data['Time']\n",
    "times_no_fov = tag_no_fov_data['Time']\n",
    "\n",
    "# Position of landing pad wrt camera\n",
    "x_fov = tag_fov_data['posepositionx']\n",
    "y_fov = tag_fov_data['posepositiony']\n",
    "z_fov = tag_fov_data['posepositionz']\n",
    "x_no_fov = tag_no_fov_data['posepositionx']\n",
    "y_no_fov = tag_no_fov_data['posepositiony']\n",
    "z_no_fov = tag_no_fov_data['posepositionz']"
   ]
  },
  {
   "cell_type": "code",
   "execution_count": null,
   "id": "055a3d2c",
   "metadata": {
    "scrolled": true
   },
   "outputs": [],
   "source": [
    "# Set plot params\n",
    "plt.rcParams['figure.figsize'] = [15, 8]\n",
    "plt.rcParams['font.size'] = 15\n",
    "#print(plt.rcParams.keys)\n",
    "\n",
    "# show smoothing effect\n",
    "plt.figure(0)\n",
    "plt.plot(imu_times, imu_data['linear_accelerationx'], alpha=0.3)\n",
    "plt.plot(imu_times, acc_x_smooth)\n",
    "plt.xlabel('Time (sec)')\n",
    "plt.ylabel('m/s^2')\n",
    "plt.title('x acceleration')\n",
    "plt.figure(1)\n",
    "plt.plot(imu_times, imu_data['linear_accelerationy'], alpha=0.3)\n",
    "plt.plot(imu_times, acc_y_smooth)\n",
    "plt.xlabel('Time (sec)')\n",
    "plt.ylabel('m/s^2')\n",
    "plt.title('y acceleration')\n",
    "plt.figure(2)\n",
    "plt.plot(imu_times, imu_data['linear_accelerationz'], alpha=0.3)\n",
    "plt.plot(imu_times, acc_z_smooth)\n",
    "plt.xlabel('Time (sec)')\n",
    "plt.ylabel('m/s^2')\n",
    "plt.title('z acceleration')\n",
    "plt.show()"
   ]
  },
  {
   "cell_type": "code",
   "execution_count": null,
   "id": "8b31bcff",
   "metadata": {},
   "outputs": [],
   "source": [
    "# Functions for rotating a 3-vector by a quaternion\n",
    "\n",
    "def q_mult(q1, q0):\n",
    "    # quaternion product q1xq0\n",
    "    w0, x0, y0, z0 = q0\n",
    "    w1, x1, y1, z1 = q1\n",
    "    return np.array([-x1 * x0 - y1 * y0 - z1 * z0 + w1 * w0,\n",
    "                     x1 * w0 + y1 * z0 - z1 * y0 + w1 * x0,\n",
    "                     -x1 * z0 + y1 * w0 + z1 * x0 + w1 * y0,\n",
    "                     x1 * y0 - y1 * x0 + z1 * w0 + w1 * z0], dtype=np.float64)\n",
    "def q_inv(q):\n",
    "    # quaternion inverse\n",
    "    return np.array([-q[0], q[1], q[2], q[3]])\n",
    "def pnt2q(pnt):\n",
    "    # represent a 3-vector as a quaternion\n",
    "    return np.array([0, pnt[0], pnt[1], pnt[2]])\n",
    "def q2pnt(q):\n",
    "    # remove extra zero from rotated pnt\n",
    "    assert abs(q[0]) < 1e-14, f\"q[0] too big, got: {q[0]}\" # make sure the removed value is about zero\n",
    "    return np.array([q[1], q[2], q[3]])\n",
    "def q_rotate(pnt, q):\n",
    "    # rotate pnt by q\n",
    "    result_q = q_mult(q_inv(q), q_mult( pnt2q(pnt),q))\n",
    "    return q2pnt(result_q)"
   ]
  },
  {
   "cell_type": "code",
   "execution_count": null,
   "id": "1fb79cd1",
   "metadata": {},
   "outputs": [],
   "source": [
    "# Estimate mass-normalized thrust\n",
    "\n",
    "acc_w = np.empty(3)\n",
    "g_vect = np.array([0,0,9.81])\n",
    "mass_norm_thrust = np.empty(thrust_times.size)\n",
    "mass_norm_thrust[:] = np.nan\n",
    "\n",
    "for i in range(thrust_times.size):\n",
    "    acc_w = q_rotate(acc[i,:], att[i,:]) # Express imu acceleration in world frame (values include gravity)\n",
    "    mass_norm_thrust[i] = np.linalg.norm(acc_w) # Estimate mass-normalized thrust"
   ]
  },
  {
   "cell_type": "code",
   "execution_count": null,
   "id": "4d3058b9",
   "metadata": {
    "scrolled": false
   },
   "outputs": [],
   "source": [
    "# Create plots\n",
    "\n",
    "start_sec = thrust_times[0] + 15  # add 1 to start 1 second later\n",
    "end_sec = thrust_times[-1] - 38   # subtract 2 to end 2 secs earlier\n",
    "# select indices to satisfy desired time region, and desired altitutde\n",
    "plt_idx = (thrust_times > start_sec)* \\\n",
    "          (thrust_times < end_sec)\n",
    "#* \\\n",
    "#          (alt > min_alt)\n",
    "\n",
    "plt.figure(3)\n",
    "plt.plot(thrust_times[plt_idx], PX4thrust[plt_idx])\n",
    "plt.xlabel('Time (sec)')\n",
    "plt.ylabel('Thrust (PX4 normalized)')\n",
    "plt.title('PX4 Normalized Thrust')\n",
    "\n",
    "plt.figure(4)\n",
    "plt.plot(thrust_times[plt_idx], mass_norm_thrust[plt_idx])\n",
    "plt.xlabel('Time (sec)')\n",
    "plt.ylabel('Thrust (mass normalized)')\n",
    "plt.title('Mass Normalized Thrust')\n",
    "\n",
    "# Display the plots\n",
    "plt.show()"
   ]
  },
  {
   "cell_type": "code",
   "execution_count": null,
   "id": "d2ce31aa",
   "metadata": {},
   "outputs": [],
   "source": [
    "# Fit polynomial to data\n",
    "\n",
    "mnt_fit = mass_norm_thrust[plt_idx]\n",
    "px4t_fit = PX4thrust[plt_idx]\n",
    "\n",
    "# Append zeros\n",
    "mnt_fit = np.append(mnt_fit, np.zeros(30))\n",
    "px4t_fit = np.append(px4t_fit, np.zeros(30))\n",
    "\n",
    "d, c, b, a = polyfit(mnt_fit,  px4t_fit, 3)\n",
    "print([a,b,c,d])\n",
    "#a,b,c,d = [0.00013850414341400538, -0.005408755617324549, 0.11336157680888627, -0.0022807568577082674]\n",
    "x = np.linspace(0,20,100)\n",
    "\n",
    "plt.figure(5)\n",
    "plt.plot(mnt_fit, px4t_fit, '.')\n",
    "plt.xlabel('Mass normalized thrust ($m/s^2$)')\n",
    "plt.ylabel('PX4 normalized thrust')\n",
    "plt.title('Thrust mapping')\n",
    "plt.xlim(-0.35)\n",
    "plt.ylim(-0.05,1.05)\n",
    "\n",
    "# plot ploynomial\n",
    "plt.plot(x, a*x*x*x + b*x*x + c*x + d)\n",
    "\n",
    "# Display the plots\n",
    "plt.show() # comment this out if using interactive plots"
   ]
  },
  {
   "cell_type": "code",
   "execution_count": null,
   "id": "959a6af9",
   "metadata": {},
   "outputs": [],
   "source": []
  }
 ],
 "metadata": {
  "kernelspec": {
   "display_name": "Python 3 (ipykernel)",
   "language": "python",
   "name": "python3"
  },
  "language_info": {
   "codemirror_mode": {
    "name": "ipython",
    "version": 3
   },
   "file_extension": ".py",
   "mimetype": "text/x-python",
   "name": "python",
   "nbconvert_exporter": "python",
   "pygments_lexer": "ipython3",
   "version": "3.8.10"
  }
 },
 "nbformat": 4,
 "nbformat_minor": 5
}
