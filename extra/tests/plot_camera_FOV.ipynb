{
 "cells": [
  {
   "cell_type": "code",
   "execution_count": 542,
   "id": "bae16497",
   "metadata": {},
   "outputs": [],
   "source": [
    "import matplotlib.pyplot as plt\n",
    "import numpy as np\n",
    "\n",
    "# Load trajectory and keyframes\n",
    "traj = np.loadtxt(\"test_data/test_traj.csv\", delimiter=\",\", dtype=float)\n",
    "keys = np.loadtxt(\"test_data/pos_keyframes.csv\", delimiter=\",\", dtype=float)\n",
    "\n",
    "# Split up trajectory data\n",
    "t  = traj[:,0].reshape(-1,1)\n",
    "x  = traj[:,1].reshape(-1,1);   y  = traj[:,2].reshape(-1,1);   z  = traj[:,3].reshape(-1,1);   yaw  = traj[:,4].reshape(-1,1);      # position\n",
    "vx = traj[:,5].reshape(-1,1);   vy = traj[:,6].reshape(-1,1);   vz = traj[:,7].reshape(-1,1);   vyaw = traj[:,8].reshape(-1,1);      # velocity\n",
    "ax = traj[:,9].reshape(-1,1);   ay = traj[:,10].reshape(-1,1);  az = traj[:,11].reshape(-1,1);  ayaw = traj[:,12].reshape(-1,1);     # acceleration\n",
    "jx = traj[:,13].reshape(-1,1);  jy = traj[:,14].reshape(-1,1);  jz = traj[:,15].reshape(-1,1);  jyaw = traj[:,16].reshape(-1,1);     # jerk\n"
   ]
  },
  {
   "cell_type": "code",
   "execution_count": 543,
   "id": "a8971308",
   "metadata": {},
   "outputs": [],
   "source": [
    "# Find xb, yb, zb (as in Flatness-based Quadcopter Trajectory Planning... by Friere and Xu)\n",
    "\n",
    "# Get zb\n",
    "g = 9.81\n",
    "Thrust = np.hstack((ax,ay,az+g)).T\n",
    "norm_Thrust = np.linalg.norm(Thrust, axis = 0)\n",
    "zb = Thrust / norm_Thrust\n",
    "\n",
    "# Get xb\n",
    "yc = np.hstack(( -np.sin(yaw), np.cos(yaw), np.zeros((t.size,1)) )).T\n",
    "yc_zb = np.cross(yc, zb, axis = 0)\n",
    "yc_zb_norm = np.linalg.norm(yc_zb, axis = 0)\n",
    "xb = yc_zb / yc_zb_norm\n",
    "\n",
    "# Get yb\n",
    "yb = np.cross(zb, xb, axis = 0)"
   ]
  },
  {
   "cell_type": "code",
   "execution_count": 544,
   "id": "495fdcd7",
   "metadata": {},
   "outputs": [],
   "source": [
    "# Find roll and pitch\n",
    "\n",
    "zw = np.array(([0],[0],[1]))\n",
    "zw_yb = zw.T @ yb\n",
    "zw_xb = zw.T @ xb\n",
    "roll = np.arcsin(zw_yb/(np.cos(np.arcsin(zw_xb)))).T\n",
    "pitch = -np.arcsin(zw_xb).T"
   ]
  },
  {
   "cell_type": "code",
   "execution_count": 545,
   "id": "32b19e11",
   "metadata": {},
   "outputs": [],
   "source": [
    "# Define rotation matrix functions\n",
    "\n",
    "Rotz = lambda ang : np.array(([np.cos(ang), -np.sin(ang), 0],\n",
    "                              [np.sin(ang), np.cos(ang), 0],\n",
    "                              [0, 0, 1]))\n",
    "Roty = lambda ang : np.array(([np.cos(ang), 0, np.sin(ang)],\n",
    "                              [0, 1, 0],\n",
    "                              [-np.sin(ang), 0, np.cos(ang)]))\n",
    "Rotx = lambda ang : np.array(([1, 0, 0],\n",
    "                              [0, np.cos(ang), -np.sin(ang)],\n",
    "                              [0, np.sin(ang), np.cos(ang)]))\n",
    "Rzyx = lambda roll, pitch, yaw : Rotz(yaw) @ Roty(pitch) @ Rotx(roll)"
   ]
  },
  {
   "cell_type": "code",
   "execution_count": 546,
   "id": "352f78fa",
   "metadata": {},
   "outputs": [
    {
     "data": {
      "image/png": "[encoded data removed]",
      "text/plain": [
       "<Figure size 432x288 with 1 Axes>"
      ]
     },
     "metadata": {
      "needs_background": "light"
     },
     "output_type": "display_data"
    }
   ],
   "source": [
    "pos = np.hstack((x,y,z)).T\n",
    "landmark = np.array(([0],[0],[0]))\n",
    "p = np.empty((2, t.size))\n",
    "\n",
    "for i in range(t.size):\n",
    "    R = Rzyx(roll[i][0], pitch[i][0], yaw[i][0])\n",
    "    P = R.T @ (pos[:,i].reshape(3,1) - landmark)\n",
    "    p[0,i] = P[0]/(-P[2])\n",
    "    p[1,i] = P[1]/(-P[2])\n",
    "\n",
    "plt.plot(p[0,:],p[1,:],'k.')\n",
    "plt.plot(p[0,0],p[1,0],'ro',label='start')\n",
    "plt.legend()\n",
    "plt.axis('equal')\n",
    "\n",
    "plt.show()"
   ]
  }
 ],
 "metadata": {
  "kernelspec": {
   "display_name": "Python 3 (ipykernel)",
   "language": "python",
   "name": "python3"
  },
  "language_info": {
   "codemirror_mode": {
    "name": "ipython",
    "version": 3
   },
   "file_extension": ".py",
   "mimetype": "text/x-python",
   "name": "python",
   "nbconvert_exporter": "python",
   "pygments_lexer": "ipython3",
   "version": "3.8.10"
  }
 },
 "nbformat": 4,
 "nbformat_minor": 5
}
